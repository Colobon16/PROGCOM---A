{
  "nbformat": 4,
  "nbformat_minor": 0,
  "metadata": {
    "colab": {
      "provenance": [],
      "authorship_tag": "ABX9TyM+cP4U63QnQR/xUahnkYl7",
      "include_colab_link": true
    },
    "kernelspec": {
      "name": "python3",
      "display_name": "Python 3"
    },
    "language_info": {
      "name": "python"
    }
  },
  "cells": [
    {
      "cell_type": "markdown",
      "metadata": {
        "id": "view-in-github",
        "colab_type": "text"
      },
      "source": [
        "<a href=\"https://colab.research.google.com/github/Colobon16/PROGCOM---A/blob/main/GQ2.ipynb\" target=\"_parent\"><img src=\"https://colab.research.google.com/assets/colab-badge.svg\" alt=\"Open In Colab\"/></a>"
      ]
    },
    {
      "cell_type": "markdown",
      "source": [
        "PRESENTACIÓN DESASTECIMIENTO DE AGUA EN LOS SANTOS"
      ],
      "metadata": {
        "id": "lAKbffRKTQNz"
      }
    },
    {
      "cell_type": "markdown",
      "source": [
        "https://www.canva.com/design/DAGzi9C8gKI/sOFlon7fvH8tKCru0DF4Hg/edit?utm_content=DAGzi9C8gKI&utm_campaign=designshare&utm_medium=link2&utm_source=sharebutton"
      ],
      "metadata": {
        "id": "AYf42Cn8TN77"
      }
    }
  ]
}