{
  "nbformat": 4,
  "nbformat_minor": 0,
  "metadata": {
    "colab": {
      "provenance": [],
      "authorship_tag": "ABX9TyMOaUo8D85lQfGQL91Akcu8",
      "include_colab_link": true
    },
    "kernelspec": {
      "name": "python3",
      "display_name": "Python 3"
    },
    "language_info": {
      "name": "python"
    }
  },
  "cells": [
    {
      "cell_type": "markdown",
      "metadata": {
        "id": "view-in-github",
        "colab_type": "text"
      },
      "source": [
        "<a href=\"https://colab.research.google.com/github/Colobon16/PROGCOM---A/blob/main/Piedra_papel_o_tijera.ipynb\" target=\"_parent\"><img src=\"https://colab.research.google.com/assets/colab-badge.svg\" alt=\"Open In Colab\"/></a>"
      ]
    },
    {
      "cell_type": "code",
      "execution_count": 1,
      "metadata": {
        "colab": {
          "base_uri": "https://localhost:8080/"
        },
        "id": "XJ8_SOwJVt34",
        "outputId": "1f85d68b-3a7d-4449-f97d-ae95df9c60cb"
      },
      "outputs": [
        {
          "output_type": "stream",
          "name": "stdout",
          "text": [
            "Elige una opcion: piedra, papel, tijera, lagarto o spock\n",
            "Tu eleccion: piedra\n",
            "La computadora eligio: spock\n",
            "Perdiste...\n",
            "Quieres jugar de nuevo? (s/n): n\n",
            "Gracias por jugar. Hasta luego!\n"
          ]
        }
      ],
      "source": [
        "import random\n",
        "\n",
        "opciones = [\"piedra\", \"papel\", \"tijera\", \"lagarto\", \"spock\"]\n",
        "\n",
        "resultados = {\n",
        "    (\"piedra\", \"tijera\"): \"gana\",\n",
        "    (\"piedra\", \"lagarto\"): \"gana\",\n",
        "    (\"papel\", \"piedra\"): \"gana\",\n",
        "    (\"papel\", \"spock\"): \"gana\",\n",
        "    (\"tijera\", \"papel\"): \"gana\",\n",
        "    (\"tijera\", \"lagarto\"): \"gana\",\n",
        "    (\"lagarto\", \"papel\"): \"gana\",\n",
        "    (\"lagarto\", \"spock\"): \"gana\",\n",
        "    (\"spock\", \"piedra\"): \"gana\",\n",
        "    (\"spock\", \"tijera\"): \"gana\"\n",
        "}\n",
        "\n",
        "def jugar():\n",
        "    print(\"Elige una opcion: piedra, papel, tijera, lagarto o spock\")\n",
        "    jugador = input(\"Tu eleccion: \").lower()\n",
        "\n",
        "    if jugador not in opciones:\n",
        "        print(\"Opcion no valida. Intenta de nuevo.\")\n",
        "        return\n",
        "\n",
        "    computadora = random.choice(opciones)\n",
        "    print(f\"La computadora eligio: {computadora}\")\n",
        "\n",
        "    if jugador == computadora:\n",
        "        print(\"Es un empate!\")\n",
        "    elif (jugador, computadora) in resultados:\n",
        "        print(\"Ganaste!\")\n",
        "    else:\n",
        "        print(\"Perdiste...\")\n",
        "\n",
        "def main():\n",
        "    while True:\n",
        "        jugar()\n",
        "        otra_vez = input(\"Quieres jugar de nuevo? (s/n): \").lower()\n",
        "        if otra_vez != 's':\n",
        "            print(\"Gracias por jugar. Hasta luego!\")\n",
        "            break\n",
        "\n",
        "if __name__ == \"__main__\":\n",
        "    main()"
      ]
    }
  ]
}