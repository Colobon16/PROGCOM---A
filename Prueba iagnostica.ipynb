{
  "nbformat": 4,
  "nbformat_minor": 0,
  "metadata": {
    "colab": {
      "provenance": [],
      "authorship_tag": "ABX9TyP0lOpf1DXrB+tkLVV8jAEA",
      "include_colab_link": true
    },
    "kernelspec": {
      "name": "python3",
      "display_name": "Python 3"
    },
    "language_info": {
      "name": "python"
    }
  },
  "cells": [
    {
      "cell_type": "markdown",
      "metadata": {
        "id": "view-in-github",
        "colab_type": "text"
      },
      "source": [
        "<a href=\"https://colab.research.google.com/github/Colobon16/PROGCOM---A/blob/main/Prueba%20iagnostica.ipynb\" target=\"_parent\"><img src=\"https://colab.research.google.com/assets/colab-badge.svg\" alt=\"Open In Colab\"/></a>"
      ]
    },
    {
      "cell_type": "code",
      "source": [],
      "metadata": {
        "id": "mjMTtFc8McAz"
      },
      "execution_count": null,
      "outputs": []
    },
    {
      "cell_type": "markdown",
      "source": [
        "##Estructuras de seleccion\n",
        "Aquí se desarrollaran ejercicios sobre estructuras de selección\n",
        "\n",
        "\n",
        "```\n",
        "sI (condición) entonces:\n",
        "   pasan cosas divertidas\n",
        "sino:\n",
        "   llorelo ☹\n",
        "```\n",
        "\n"
      ],
      "metadata": {
        "id": "MTh5An04My4z"
      }
    },
    {
      "cell_type": "markdown",
      "source": [
        "\n",
        "\n",
        "```\n",
        "num = float(input(\"Ingresa un número: \"))\n",
        "if num > 0:\n",
        "    print(\"El número es positivo.\")\n",
        "else:\n",
        "    print(\"El número no es positivo.\")\n",
        "```\n",
        "\n"
      ],
      "metadata": {
        "id": "S3ys_Ov5almE"
      }
    },
    {
      "cell_type": "markdown",
      "source": [
        "\n",
        "\n",
        "```\n",
        "edad = int(input(\"Ingresa tu edad: \"))\n",
        "if edad >= 18:\n",
        "    print(\"Eres mayor de edad.\")\n",
        "else:\n",
        "    print(\"Eres menor de edad.\")\n",
        "```\n",
        "\n"
      ],
      "metadata": {
        "id": "HQXG4dLca4iE"
      }
    },
    {
      "cell_type": "markdown",
      "source": [
        "\n",
        "\n",
        "```\n",
        "a = float(input(\"Ingresa el primer número: \"))\n",
        "b = float(input(\"Ingresa el segundo número: \"))\n",
        "if a > b:\n",
        "    print(\"El mayor es:\", a)\n",
        "elif b > a:\n",
        "    print(\"El mayor es:\", b)\n",
        "else:\n",
        "    print(\"Ambos números son iguales.\")\n",
        "```\n",
        "\n"
      ],
      "metadata": {
        "id": "zgecaKc3bBok"
      }
    },
    {
      "cell_type": "markdown",
      "source": [
        "\n",
        "\n",
        "```\n",
        "calificacion = float(input(\"Ingresa la calificación (0-100): \"))\n",
        "if calificacion >= 60:\n",
        "    print(\"Aprobado.\")\n",
        "else:\n",
        "    print(\"Reprobado.\")\n",
        "```\n",
        "\n"
      ],
      "metadata": {
        "id": "yMxpKsgwbIrd"
      }
    },
    {
      "cell_type": "markdown",
      "source": [
        "\n",
        "\n",
        "```\n",
        "numero = int(input(\"Ingresa un número: \"))\n",
        "if numero % 2 == 0:\n",
        "    print(\"Es par.\")\n",
        "else:\n",
        "    print(\"Es impar.\")\n",
        "```\n",
        "\n"
      ],
      "metadata": {
        "id": "-NZL60P8bO6k"
      }
    },
    {
      "cell_type": "markdown",
      "source": [
        "\n",
        "\n",
        "```\n",
        "a = float(input(\"Ingresa el primer número: \"))\n",
        "b = float(input(\"Ingresa el segundo número: \"))\n",
        "c = float(input(\"Ingresa el tercer número: \"))\n",
        "mayor = max(a, b, c)\n",
        "print(\"El mayor es:\", mayor)\n",
        "```\n",
        "\n"
      ],
      "metadata": {
        "id": "-zzFbaPibVkD"
      }
    },
    {
      "cell_type": "markdown",
      "source": [
        "\n",
        "\n",
        "```\n",
        "anio = int(input(\"Ingresa un año: \"))\n",
        "if (anio % 4 == 0 and anio % 100 != 0) or (anio % 400 == 0):\n",
        "    print(\"Es un año bisiesto.\")\n",
        "else:\n",
        "    print(\"No es un año bisiesto.\")\n",
        "```\n",
        "\n"
      ],
      "metadata": {
        "id": "7NQWIYSqblGb"
      }
    },
    {
      "cell_type": "markdown",
      "source": [
        "\n",
        "\n",
        "```\n",
        "import re\n",
        "\n",
        "contrasena = input(\"Ingresa una contraseña: \")\n",
        "\n",
        "if (len(contrasena) > 8 and\n",
        "    any(c.isdigit() for c in contrasena) and\n",
        "    any(c.isupper() for c in contrasena)):\n",
        "    print(\"Contraseña válida.\")\n",
        "else:\n",
        "    print(\"Contraseña inválida. Debe tener más de 8 caracteres, al menos un número y una letra mayúscula.\")\n",
        "```\n",
        "\n"
      ],
      "metadata": {
        "id": "ktVqQZKcbslz"
      }
    },
    {
      "cell_type": "markdown",
      "source": [
        "\n",
        "\n",
        "```\n",
        "numero = int(input(\"Ingresa un número: \"))\n",
        "\n",
        "if numero % 3 == 0 and numero % 5 == 0:\n",
        "    print(\"FizzBuzz\")\n",
        "elif numero % 3 == 0:\n",
        "    print(\"Fizz\")\n",
        "elif numero % 5 == 0:\n",
        "    print(\"Buzz\")\n",
        "else:\n",
        "    print(numero)\n",
        "```\n",
        "\n"
      ],
      "metadata": {
        "id": "pTxz8rH7bxpL"
      }
    }
  ]
}