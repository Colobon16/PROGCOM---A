{
  "nbformat": 4,
  "nbformat_minor": 0,
  "metadata": {
    "colab": {
      "provenance": [],
      "authorship_tag": "ABX9TyMgKpkLUMpbLhMdXwjdjfEm",
      "include_colab_link": true
    },
    "kernelspec": {
      "name": "python3",
      "display_name": "Python 3"
    },
    "language_info": {
      "name": "python"
    }
  },
  "cells": [
    {
      "cell_type": "markdown",
      "metadata": {
        "id": "view-in-github",
        "colab_type": "text"
      },
      "source": [
        "<a href=\"https://colab.research.google.com/github/Colobon16/PROGCOM---A/blob/main/CQ8.ipynb\" target=\"_parent\"><img src=\"https://colab.research.google.com/assets/colab-badge.svg\" alt=\"Open In Colab\"/></a>"
      ]
    },
    {
      "cell_type": "code",
      "execution_count": 7,
      "metadata": {
        "colab": {
          "base_uri": "https://localhost:8080/",
          "height": 165
        },
        "id": "3SZ0Vnl_OtEK",
        "outputId": "5965b951-9531-46bf-8d6e-484b33679f42"
      },
      "outputs": [
        {
          "output_type": "error",
          "ename": "KeyError",
          "evalue": "'Japan'",
          "traceback": [
            "\u001b[0;31m---------------------------------------------------------------------------\u001b[0m",
            "\u001b[0;31mKeyError\u001b[0m                                  Traceback (most recent call last)",
            "\u001b[0;32m/tmp/ipython-input-3880507262.py\u001b[0m in \u001b[0;36m<cell line: 0>\u001b[0;34m()\u001b[0m\n\u001b[1;32m      1\u001b[0m \u001b[0mnew_dict\u001b[0m \u001b[0;34m=\u001b[0m \u001b[0;34m{\u001b[0m\u001b[0;34m\"USA\"\u001b[0m\u001b[0;34m:\u001b[0m \u001b[0;36m156\u001b[0m\u001b[0;34m,\u001b[0m \u001b[0;34m\"China\"\u001b[0m\u001b[0;34m:\u001b[0m \u001b[0;36m2356\u001b[0m\u001b[0;34m,\u001b[0m \u001b[0;34m\"Germany\"\u001b[0m\u001b[0;34m:\u001b[0m \u001b[0;36m897\u001b[0m\u001b[0;34m}\u001b[0m\u001b[0;34m\u001b[0m\u001b[0;34m\u001b[0m\u001b[0m\n\u001b[0;32m----> 2\u001b[0;31m \u001b[0mprint\u001b[0m\u001b[0;34m(\u001b[0m\u001b[0mnew_dict\u001b[0m\u001b[0;34m[\u001b[0m\u001b[0;34m\"Japan\"\u001b[0m\u001b[0;34m]\u001b[0m\u001b[0;34m)\u001b[0m  \u001b[0;31m# 'Japan' no existe en el diccionario\u001b[0m\u001b[0;34m\u001b[0m\u001b[0;34m\u001b[0m\u001b[0m\n\u001b[0m",
            "\u001b[0;31mKeyError\u001b[0m: 'Japan'"
          ]
        }
      ],
      "source": [
        "new_dict = {\"USA\": 156, \"China\": 2356, \"Germany\": 897}\n",
        "print(new_dict[\"Japan\"])  # 'Japan' no existe en el diccionario\n"
      ]
    },
    {
      "cell_type": "code",
      "source": [
        "new_dict = {\"USA\": 156, \"China\": 2356, \"Germany\": 897}\n",
        "if \"Japan\" in new_dict:\n",
        "    print(new_dict[\"Japan\"])\n",
        "else:\n",
        "    print(\"La clave 'Japan' no existe en el diccionario.\")\n"
      ],
      "metadata": {
        "colab": {
          "base_uri": "https://localhost:8080/"
        },
        "id": "Bx8TAZdZPIxn",
        "outputId": "2d5ac1bd-eec9-4880-cf0b-1f4b7a5bb43a"
      },
      "execution_count": 4,
      "outputs": [
        {
          "output_type": "stream",
          "name": "stdout",
          "text": [
            "La clave 'Japan' no existe en el diccionario.\n"
          ]
        }
      ]
    },
    {
      "cell_type": "code",
      "source": [
        "##Error 2\n",
        "print(\"Hola, Mundo!\"  # Falta el paréntesis de cierre\n"
      ],
      "metadata": {
        "colab": {
          "base_uri": "https://localhost:8080/",
          "height": 110
        },
        "id": "veXWcq0dPLVI",
        "outputId": "8f8bbe33-ab6f-4761-daa8-715b0b902f7a"
      },
      "execution_count": 5,
      "outputs": [
        {
          "output_type": "error",
          "ename": "SyntaxError",
          "evalue": "incomplete input (ipython-input-2938106123.py, line 2)",
          "traceback": [
            "\u001b[0;36m  File \u001b[0;32m\"/tmp/ipython-input-2938106123.py\"\u001b[0;36m, line \u001b[0;32m2\u001b[0m\n\u001b[0;31m    print(\"Hola, Mundo!\"  # Falta el paréntesis de cierre\u001b[0m\n\u001b[0m                                                         ^\u001b[0m\n\u001b[0;31mSyntaxError\u001b[0m\u001b[0;31m:\u001b[0m incomplete input\n"
          ]
        }
      ]
    },
    {
      "cell_type": "code",
      "source": [
        "print(\"Hola, Mundo!\")\n"
      ],
      "metadata": {
        "colab": {
          "base_uri": "https://localhost:8080/"
        },
        "id": "8dLyLHkTPQm2",
        "outputId": "8bc36921-0bc4-48e8-e759-9d12a3cdf8ac"
      },
      "execution_count": 6,
      "outputs": [
        {
          "output_type": "stream",
          "name": "stdout",
          "text": [
            "Hola, Mundo!\n"
          ]
        }
      ]
    },
    {
      "cell_type": "code",
      "source": [
        "##Error 3\n",
        "lista = [1, 2, 3]\n",
        "print(lista[5])  # El índice 5 no existe\n"
      ],
      "metadata": {
        "id": "2zGaQozAPjsm"
      },
      "execution_count": null,
      "outputs": []
    },
    {
      "cell_type": "code",
      "source": [
        "lista = [1, 2, 3]\n",
        "if len(lista) > 5:\n",
        "    print(lista[5])\n",
        "else:\n",
        "    print(\"Índice fuera de rango\")\n"
      ],
      "metadata": {
        "id": "CnkiDhhpPn0m"
      },
      "execution_count": null,
      "outputs": []
    },
    {
      "cell_type": "code",
      "source": [
        "##Error 4\n",
        "num = 10\n",
        "texto = \"15\"\n",
        "print(num + texto)  # Intentando sumar un número con una cadena\n"
      ],
      "metadata": {
        "id": "Akbd7u7qPpoP"
      },
      "execution_count": null,
      "outputs": []
    },
    {
      "cell_type": "code",
      "source": [
        "num = 10\n",
        "texto = \"15\"\n",
        "print(num + int(texto))  # Convertimos 'texto' a int antes de sumarlos\n"
      ],
      "metadata": {
        "colab": {
          "base_uri": "https://localhost:8080/"
        },
        "id": "U4DVjevAPp2V",
        "outputId": "77984f90-01a4-4e2d-fe60-862d326d3225"
      },
      "execution_count": 9,
      "outputs": [
        {
          "output_type": "stream",
          "name": "stdout",
          "text": [
            "25\n"
          ]
        }
      ]
    },
    {
      "cell_type": "code",
      "source": [
        "##Error 5\n",
        "numero = 10\n",
        "numero.append(20)  # El tipo int no tiene el método append\n"
      ],
      "metadata": {
        "id": "vdUb7Jv9PthG"
      },
      "execution_count": null,
      "outputs": []
    },
    {
      "cell_type": "code",
      "source": [
        "lista = [10]\n",
        "lista.append(20)  # El método append es para listas\n",
        "print(lista)\n"
      ],
      "metadata": {
        "id": "xx5nd66NPxCG",
        "outputId": "aea94942-de7e-4846-bead-d31ccbbc48f1",
        "colab": {
          "base_uri": "https://localhost:8080/"
        }
      },
      "execution_count": 8,
      "outputs": [
        {
          "output_type": "stream",
          "name": "stdout",
          "text": [
            "[10, 20]\n"
          ]
        }
      ]
    }
  ]
}