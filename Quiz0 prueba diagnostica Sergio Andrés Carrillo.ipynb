{
  "nbformat": 4,
  "nbformat_minor": 0,
  "metadata": {
    "colab": {
      "provenance": []
    },
    "kernelspec": {
      "name": "python3",
      "display_name": "Python 3"
    },
    "language_info": {
      "name": "python"
    }
  },
  "cells": [
    {
      "cell_type": "code",
      "source": [],
      "metadata": {
        "id": "mjMTtFc8McAz"
      },
      "execution_count": null,
      "outputs": []
    },
    {
      "cell_type": "markdown",
      "source": [
        "##Estructuras de seleccion\n",
        "Aquí se desarrollaran ejercicios sobre estructuras de selección\n",
        "\n",
        "\n",
        "```\n",
        "sI (condición) entonces:\n",
        "   pasan cosas divertidas\n",
        "sino:\n",
        "   llorelo ☹\n",
        "```\n",
        "\n"
      ],
      "metadata": {
        "id": "MTh5An04My4z"
      }
    }
  ]
}