{
  "nbformat": 4,
  "nbformat_minor": 0,
  "metadata": {
    "colab": {
      "provenance": [],
      "authorship_tag": "ABX9TyMJ1QDoqn/KN06/xsX71yxR",
      "include_colab_link": true
    },
    "kernelspec": {
      "name": "python3",
      "display_name": "Python 3"
    },
    "language_info": {
      "name": "python"
    }
  },
  "cells": [
    {
      "cell_type": "markdown",
      "metadata": {
        "id": "view-in-github",
        "colab_type": "text"
      },
      "source": [
        "<a href=\"https://colab.research.google.com/github/Colobon16/PROGCOM---A/blob/main/Clase_1_Estructuras_de_selecci%C3%B3n_SergioAndresCarrilloColobon.ipynb\" target=\"_parent\"><img src=\"https://colab.research.google.com/assets/colab-badge.svg\" alt=\"Open In Colab\"/></a>"
      ]
    },
    {
      "cell_type": "code",
      "execution_count": null,
      "metadata": {
        "id": "mladihSlrY9Y"
      },
      "outputs": [],
      "source": []
    },
    {
      "cell_type": "markdown",
      "source": [
        "#Estructuras de selección\n",
        "Se emplean cuando se debe evaluar una condición y esta da un valor de verdad (V) o (F)."
      ],
      "metadata": {
        "id": "Mb8w2L2nslLV"
      }
    },
    {
      "cell_type": "markdown",
      "source": [
        "##Estructura if-else\n",
        "\n",
        "\n",
        "```\n",
        "if (condición):\n",
        "  entro aquí, si la condición es V\n",
        "else:\n",
        "  entro aquí, si la condición es F.\n",
        "```\n",
        "\n"
      ],
      "metadata": {
        "id": "FPnElBYytGv8"
      }
    },
    {
      "cell_type": "code",
      "source": [
        "#Escribe un programa que reciba un número e indique si es positivo\n",
        "n=int(input(\"Ingrese un número\"))\n",
        "if n>=0:\n",
        "  print(f\"{n} es un número positivo\")\n",
        "else:\n",
        "  print(f\"{n} NO es un número positivo\")"
      ],
      "metadata": {
        "colab": {
          "base_uri": "https://localhost:8080/"
        },
        "id": "pkX9n5NAtwjK",
        "outputId": "7bebd704-a9ec-41cf-c008-ca15734b5e3b"
      },
      "execution_count": 1,
      "outputs": [
        {
          "output_type": "stream",
          "name": "stdout",
          "text": [
            "Ingrese un número15\n",
            "15 es un número positivo\n"
          ]
        }
      ]
    },
    {
      "cell_type": "markdown",
      "source": [
        "##Selección múltiple if-elif-else\n",
        "\n",
        "\n",
        "```\n",
        "if (condición1):\n",
        "  si se cumple condición 1, entro aquí\n",
        "elif (condición2)\n",
        "  si no se cumple condición 1, pero se cumple condición 2, entro aquí\n",
        "else: Si no se cumple ninguna de las anteriores\n",
        "```\n",
        "\n"
      ],
      "metadata": {
        "id": "BEkeaqHizfK2"
      }
    },
    {
      "cell_type": "code",
      "source": [
        "if n>0: print(f\"{n} es un número positivo\")\n",
        "elif n<0: print(f\"{n} NO es un número positivo\")\n",
        "else: print(f\"{n} es 0\")"
      ],
      "metadata": {
        "id": "O6h-bBl0zdNY"
      },
      "execution_count": null,
      "outputs": []
    },
    {
      "cell_type": "markdown",
      "source": [
        "##Operador terniario\n",
        "Se usa cuando hay una condición a evaluar siemple y se desea resolver en una linea de código\n",
        "\n",
        "```\n",
        "(Valor de verdad V) if (condición)\n",
        "else (Valor de verdad F)\n",
        "```\n",
        "\n"
      ],
      "metadata": {
        "id": "sPNAaAq_1Jbg"
      }
    },
    {
      "cell_type": "code",
      "source": [
        "print(f\"{n} es un número positivo\") if n>=0 else print(f\"{n} No es un número positivo\")"
      ],
      "metadata": {
        "colab": {
          "base_uri": "https://localhost:8080/"
        },
        "id": "HBNWVwEi2iRc",
        "outputId": "270ecb20-37bd-46e1-f1d0-7dc99a323194"
      },
      "execution_count": 2,
      "outputs": [
        {
          "output_type": "stream",
          "name": "stdout",
          "text": [
            "15 es un número positivo\n"
          ]
        }
      ]
    },
    {
      "cell_type": "code",
      "source": [
        "a=f\"{n} es un número positivo\" if n>=0 else f\"{n} No es un número positivo\"\n",
        "print (a)"
      ],
      "metadata": {
        "colab": {
          "base_uri": "https://localhost:8080/"
        },
        "id": "jGjH6KwY3U88",
        "outputId": "0c97c470-4842-4480-f134-a2661a641fea"
      },
      "execution_count": 4,
      "outputs": [
        {
          "output_type": "stream",
          "name": "stdout",
          "text": [
            "15 es un número positivo\n"
          ]
        }
      ]
    },
    {
      "cell_type": "code",
      "source": [
        "edad = int(input(\"Ingrese su edad: \"))\n",
        "\n",
        "if edad >= 18:\n",
        "    print(\"Es mayor de edad.\")\n",
        "elif edad < 18:\n",
        "    print(\"Es menor de edad.\")\n",
        "else:\n",
        "    print(\"Edad no válida.\")"
      ],
      "metadata": {
        "colab": {
          "base_uri": "https://localhost:8080/"
        },
        "id": "Ep0me4aF7nhy",
        "outputId": "74531d96-466d-46f5-b79b-246a55a2e3f3"
      },
      "execution_count": 12,
      "outputs": [
        {
          "output_type": "stream",
          "name": "stdout",
          "text": [
            "Ingrese su edad: 13\n",
            "Es menor de edad.\n"
          ]
        }
      ]
    },
    {
      "cell_type": "code",
      "source": [
        "a = float(input(\"Ingrese el primer número: \"))\n",
        "b = float(input(\"Ingrese el segundo número: \"))\n",
        "\n",
        "if a > b:\n",
        "    print(\"El mayor es:\", a)\n",
        "elif b > a:\n",
        "    print(\"El mayor es:\", b)\n",
        "else:\n",
        "    print(\"Ambos números son iguales.\")"
      ],
      "metadata": {
        "colab": {
          "base_uri": "https://localhost:8080/"
        },
        "id": "inAsH2Sm_M4O",
        "outputId": "f1b7c625-9125-4d41-e807-2b7ffbfaf393"
      },
      "execution_count": 13,
      "outputs": [
        {
          "output_type": "stream",
          "name": "stdout",
          "text": [
            "Ingrese el primer número: 1\n",
            "Ingrese el segundo número: 4\n",
            "El mayor es: 4.0\n"
          ]
        }
      ]
    },
    {
      "cell_type": "code",
      "source": [
        "nota = float(input(\"Ingrese la calificación (0-100): \"))\n",
        "\n",
        "if nota >= 60:\n",
        "    print(\"Aprobado.\")\n",
        "elif nota < 60:\n",
        "    print(\"Reprobado.\")\n",
        "else:\n",
        "    print(\"Calificación no válida.\")"
      ],
      "metadata": {
        "colab": {
          "base_uri": "https://localhost:8080/"
        },
        "id": "dixXaIYGAeB9",
        "outputId": "d1599666-aa6a-477d-f874-f6adebe4675e"
      },
      "execution_count": 14,
      "outputs": [
        {
          "output_type": "stream",
          "name": "stdout",
          "text": [
            "Ingrese la calificación (0-100): 60\n",
            "Aprobado.\n"
          ]
        }
      ]
    },
    {
      "cell_type": "code",
      "source": [
        "num = int(input(\"Ingrese un número: \"))\n",
        "\n",
        "if num % 2 == 0:\n",
        "    print(\"Es par.\")\n",
        "elif num % 2 != 0:\n",
        "    print(\"Es impar.\")\n",
        "else:\n",
        "    print(\"Número no válido.\")"
      ],
      "metadata": {
        "colab": {
          "base_uri": "https://localhost:8080/"
        },
        "id": "OIDDw7AlAjH0",
        "outputId": "a88fe5cf-c45d-4819-9375-6872681fcdfc"
      },
      "execution_count": 15,
      "outputs": [
        {
          "output_type": "stream",
          "name": "stdout",
          "text": [
            "Ingrese un número: 2\n",
            "Es par.\n"
          ]
        }
      ]
    },
    {
      "cell_type": "code",
      "source": [
        "a = float(input(\"Ingrese el primer número: \"))\n",
        "b = float(input(\"Ingrese el segundo número: \"))\n",
        "c = float(input(\"Ingrese el tercer número: \"))\n",
        "\n",
        "if a >= b and a >= c:\n",
        "    print(\"El mayor es:\", a)\n",
        "elif b >= a and b >= c:\n",
        "    print(\"El mayor es:\", b)\n",
        "else:\n",
        "    print(\"El mayor es:\", c)"
      ],
      "metadata": {
        "colab": {
          "base_uri": "https://localhost:8080/"
        },
        "id": "eKxdP7gnBIg8",
        "outputId": "dbe3da76-aec1-4976-81c7-51d66bde4709"
      },
      "execution_count": 16,
      "outputs": [
        {
          "output_type": "stream",
          "name": "stdout",
          "text": [
            "Ingrese el primer número: 2\n",
            "Ingrese el segundo número: 3\n",
            "Ingrese el tercer número: 4\n",
            "El mayor es: 4.0\n"
          ]
        }
      ]
    },
    {
      "cell_type": "code",
      "source": [
        "año = int(input(\"Ingrese un año: \"))\n",
        "\n",
        "if (año % 4 == 0 and año % 100 != 0) or (año % 400 == 0):\n",
        "    print(\"Es bisiesto.\")\n",
        "elif año % 4 != 0:\n",
        "    print(\"No es bisiesto.\")\n",
        "else:\n",
        "    print(\"No es bisiesto.\")"
      ],
      "metadata": {
        "colab": {
          "base_uri": "https://localhost:8080/"
        },
        "id": "ptL6Xk7kBWKd",
        "outputId": "1d3d3f21-f07b-4b7e-95c0-db9cd8643345"
      },
      "execution_count": 17,
      "outputs": [
        {
          "output_type": "stream",
          "name": "stdout",
          "text": [
            "Ingrese un año: 2016\n",
            "Es bisiesto.\n"
          ]
        }
      ]
    },
    {
      "cell_type": "code",
      "source": [
        "if num % 3 == 0 and num % 5 == 0:\n",
        "    print(\"FizzBuzz\")\n",
        "elif num % 3 == 0:\n",
        "    print(\"Fizz\")\n",
        "elif num % 5 == 0:\n",
        "    print(\"Buzz\")\n",
        "else:\n",
        "    print(num)"
      ],
      "metadata": {
        "colab": {
          "base_uri": "https://localhost:8080/"
        },
        "id": "kcGKI0O_Bh6M",
        "outputId": "dc8f89a7-1585-45c7-ecee-a03e65983df0"
      },
      "execution_count": 18,
      "outputs": [
        {
          "output_type": "stream",
          "name": "stdout",
          "text": [
            "2\n"
          ]
        }
      ]
    }
  ]
}