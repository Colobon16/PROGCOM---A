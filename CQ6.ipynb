{
  "cells": [
    {
      "cell_type": "markdown",
      "metadata": {
        "id": "view-in-github",
        "colab_type": "text"
      },
      "source": [
        "<a href=\"https://colab.research.google.com/github/Colobon16/PROGCOM---A/blob/main/CQ6.ipynb\" target=\"_parent\"><img src=\"https://colab.research.google.com/assets/colab-badge.svg\" alt=\"Open In Colab\"/></a>"
      ]
    },
    {
      "cell_type": "markdown",
      "source": [
        "Mini proyecto 1: Chatbot de Trivia"
      ],
      "metadata": {
        "id": "7Hv1YRQsi3io"
      }
    },
    {
      "cell_type": "code",
      "source": [
        "print(\"Bienvenido al juego de trivia \")\n",
        "\n",
        "pregunta = input(\"¿Cuál es la capital de Francia? \")\n",
        "\n",
        "if pregunta.lower() == \"parís\" or pregunta.lower() == \"paris\":\n",
        "    print(\"Correcto!\")\n",
        "else:\n",
        "    print(\"Incorrecto. La respuesta es París.\")\n"
      ],
      "metadata": {
        "id": "55aaw6GBi2xF",
        "outputId": "4634ae7f-6ac4-402f-d3b9-08e441d6988c",
        "colab": {
          "base_uri": "https://localhost:8080/"
        }
      },
      "execution_count": null,
      "outputs": [
        {
          "output_type": "stream",
          "name": "stdout",
          "text": [
            "Bienvenido al juego de trivia \n",
            "¿Cuál es la capital de Francia? paris\n",
            "Correcto!\n"
          ]
        }
      ]
    },
    {
      "cell_type": "markdown",
      "source": [
        "Mini proyecto 2: Adivina el número"
      ],
      "metadata": {
        "id": "jW96GgYKjCmN"
      }
    },
    {
      "cell_type": "code",
      "source": [
        "import random\n",
        "\n",
        "print(\"¡Adivina el número entre 1 y 10!\")\n",
        "numero = random.randint(1, 10)\n",
        "\n",
        "intento = int(input(\"Tu intento: \"))\n",
        "\n",
        "if intento == numero:\n",
        "    print(\"Correcto\")\n",
        "else:\n",
        "    print(f\"No era. El número correcto era {numero}.\")\n"
      ],
      "metadata": {
        "id": "s7ns0EwAjElr",
        "outputId": "bf711c4c-4b0e-44c6-e99c-7b0ae0be53a8",
        "colab": {
          "base_uri": "https://localhost:8080/"
        }
      },
      "execution_count": null,
      "outputs": [
        {
          "output_type": "stream",
          "name": "stdout",
          "text": [
            "¡Adivina el número entre 1 y 10!\n",
            "Tu intento: 2\n",
            "No era. El número correcto era 9.\n"
          ]
        }
      ]
    }
  ],
  "metadata": {
    "colab": {
      "provenance": [],
      "include_colab_link": true
    },
    "kernelspec": {
      "display_name": "Python 3",
      "name": "python3"
    }
  },
  "nbformat": 4,
  "nbformat_minor": 0
}