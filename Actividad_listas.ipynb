{
  "cells": [
    {
      "cell_type": "markdown",
      "metadata": {
        "id": "view-in-github",
        "colab_type": "text"
      },
      "source": [
        "<a href=\"https://colab.research.google.com/github/Colobon16/PROGCOM---A/blob/main/Actividad_listas.ipynb\" target=\"_parent\"><img src=\"https://colab.research.google.com/assets/colab-badge.svg\" alt=\"Open In Colab\"/></a>"
      ]
    },
    {
      "cell_type": "code",
      "source": [
        "import java.util.*;\n",
        "\n",
        "public class Main {\n",
        "    public static void main(String[] args) {\n",
        "        List<String> combo = new ArrayList<>();\n",
        "        String[] letras = {\"a\", \"b\"};\n",
        "        int[] números = {1, 2, 3};\n",
        "        for (String l : letras) {\n",
        "            for (int n : números) {\n",
        "                combo.add(l + n);\n",
        "            }\n",
        "        }\n",
        "        System.out.println(\"Combinaciones: \" + combo);\n",
        "    }\n",
        "}"
      ],
      "metadata": {
        "id": "twEYvlsS5ksw"
      },
      "execution_count": null,
      "outputs": []
    },
    {
      "cell_type": "code",
      "source": [
        "import java.util.*;\n",
        "\n",
        "public class Main {\n",
        "    public static void main(String[] args) {\n",
        "        List<Integer> cuadra = new ArrayList<>();\n",
        "        for (int x = 1; x <= 10; x++) {\n",
        "            cuadra.add(x * x);\n",
        "        }\n",
        "        System.out.println(\"Cuadrados del 1 al 10: \" + cuadra);\n",
        "    }\n",
        "}"
      ],
      "metadata": {
        "id": "ziSyngjr6UCQ"
      },
      "execution_count": null,
      "outputs": []
    },
    {
      "cell_type": "code",
      "source": [
        "import java.util.*;\n",
        "\n",
        "public class Main {\n",
        "    public static void main(String[] args) {\n",
        "        List<String> palabras = Arrays.asList(\"sol\", \"estrella\", \"mar\", \"planeta\");\n",
        "        List<String> letras = new ArrayList<>();\n",
        "        for (String a : palabras) {\n",
        "            if (a.length() > 4) {\n",
        "                letras.add(a);\n",
        "            }\n",
        "        }\n",
        "        System.out.println(\"Las palabras con más de 4 letras son: \" + letras);\n",
        "    }\n",
        "}"
      ],
      "metadata": {
        "id": "OYRAM0Ex6WHZ"
      },
      "execution_count": null,
      "outputs": []
    },
    {
      "cell_type": "code",
      "source": [
        "import java.util.*;\n",
        "\n",
        "public class Main {\n",
        "    public static void main(String[] args) {\n",
        "        ArrayList<Integer> doble = new ArrayList<>();\n",
        "        for (int i = 1; i <= 5; i++) {\n",
        "            doble.add(i * 2);\n",
        "        }\n",
        "        System.out.println(\"Doble de cada número del 1 al 5:\");\n",
        "        System.out.println(doble);\n",
        "    }\n",
        "}"
      ],
      "metadata": {
        "id": "Yjaz-PDE6Yyi"
      },
      "execution_count": null,
      "outputs": []
    },
    {
      "cell_type": "code",
      "source": [
        "import java.util.*;\n",
        "\n",
        "public class Main {\n",
        "    public static void main(String[] args) {\n",
        "        List<String> lenguaje = Arrays.asList(\"python\", \"java\", \"c++\");\n",
        "        List<String> mayúsculas = new ArrayList<>();\n",
        "        for (String l : lenguaje) {\n",
        "            mayúsculas.add(l.toUpperCase());\n",
        "        }\n",
        "        System.out.println(\"Palabras en mayúsculas: \" + mayúsculas);\n",
        "    }\n",
        "}"
      ],
      "metadata": {
        "id": "nkT32Hjp6bvu"
      },
      "execution_count": null,
      "outputs": []
    },
    {
      "cell_type": "code",
      "source": [
        "import java.util.*;\n",
        "\n",
        "public class Main {\n",
        "    public static void main(String[] args) {\n",
        "        List<String> lista = new ArrayList<>();\n",
        "        for (int z = 1; z <= 10; z++) {\n",
        "            if (z % 2 == 0) {\n",
        "                lista.add(z + \" es par\");\n",
        "            } else {\n",
        "                lista.add(z + \" es impar\");\n",
        "            }\n",
        "        }\n",
        "        System.out.println(\"Par o impar: \" + lista);\n",
        "    }\n",
        "}"
      ],
      "metadata": {
        "id": "YBmh2MTk6iFH"
      },
      "execution_count": null,
      "outputs": []
    },
    {
      "cell_type": "code",
      "source": [
        "import java.util.*;\n",
        "\n",
        "public class Main {\n",
        "    public static void main(String[] args) {\n",
        "        List<Integer> par = new ArrayList<>();\n",
        "        for (int z = 0; z <= 20; z++) {\n",
        "            if (z % 2 == 0) {\n",
        "                par.add(z);\n",
        "            }\n",
        "        }\n",
        "        System.out.println(\"Números pares del 0 al 20: \" + par);\n",
        "    }\n",
        "}"
      ],
      "metadata": {
        "id": "r-JMz3Jr6meC"
      },
      "execution_count": null,
      "outputs": []
    },
    {
      "cell_type": "code",
      "source": [
        "import java.util.*;\n",
        "\n",
        "public class Main {\n",
        "    public static void main(String[] args) {\n",
        "        List<String> tuplas = new ArrayList<>();\n",
        "        for (int a = 1; a <= 5; a++) {\n",
        "            tuplas.add(\"(\" + a + \", \" + (a * a) + \")\");\n",
        "        }\n",
        "        System.out.println(\"Tuplas: \" + tuplas);\n",
        "    }\n",
        "}"
      ],
      "metadata": {
        "id": "6sadgBew6rTg"
      },
      "execution_count": null,
      "outputs": []
    },
    {
      "cell_type": "code",
      "source": [
        "import java.util.*;\n",
        "\n",
        "public class Main {\n",
        "    public static void main(String[] args) {\n",
        "        String palabra = \"programacion\";\n",
        "        ArrayList<Character> vocal = new ArrayList<>();\n",
        "        for (int x = 0; x < palabra.length(); x++) {\n",
        "            char c = palabra.charAt(x);\n",
        "            if (\"aeiou\".indexOf(c) != -1) {\n",
        "                vocal.add(c);\n",
        "            }\n",
        "        }\n",
        "        System.out.println(\"Vocales en la palabra (programacion):\");\n",
        "        System.out.println(vocal);\n",
        "    }\n",
        "}"
      ],
      "metadata": {
        "id": "ZCTNL4Zy6z8H"
      },
      "execution_count": null,
      "outputs": []
    }
  ],
  "metadata": {
    "colab": {
      "provenance": [],
      "include_colab_link": true
    },
    "kernelspec": {
      "display_name": "Python 3",
      "name": "python3"
    }
  },
  "nbformat": 4,
  "nbformat_minor": 0
}