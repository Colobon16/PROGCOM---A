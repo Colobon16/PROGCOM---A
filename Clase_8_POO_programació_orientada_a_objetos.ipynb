{
  "nbformat": 4,
  "nbformat_minor": 0,
  "metadata": {
    "colab": {
      "provenance": [],
      "authorship_tag": "ABX9TyN1av0mkczGD6FvEsc6fq9t",
      "include_colab_link": true
    },
    "kernelspec": {
      "name": "python3",
      "display_name": "Python 3"
    },
    "language_info": {
      "name": "python"
    }
  },
  "cells": [
    {
      "cell_type": "markdown",
      "metadata": {
        "id": "view-in-github",
        "colab_type": "text"
      },
      "source": [
        "<a href=\"https://colab.research.google.com/github/Colobon16/PROGCOM---A/blob/main/Clase_8_POO_programaci%C3%B3_orientada_a_objetos.ipynb\" target=\"_parent\"><img src=\"https://colab.research.google.com/assets/colab-badge.svg\" alt=\"Open In Colab\"/></a>"
      ]
    },
    {
      "cell_type": "code",
      "execution_count": 2,
      "metadata": {
        "colab": {
          "base_uri": "https://localhost:8080/"
        },
        "id": "2tuNg7fNOifT",
        "outputId": "dea977b0-f7a7-424f-ce9c-7965d4f13984"
      },
      "outputs": [
        {
          "output_type": "execute_result",
          "data": {
            "text/plain": [
              "['girasol', 'dahlia', 'clavel']"
            ]
          },
          "metadata": {},
          "execution_count": 2
        }
      ],
      "source": [
        "#Floristeria\n",
        "#1. Conjunto de flores, se elige aleatoriamente una cantidad\n",
        "import random\n",
        "\n",
        "flores=[\"tulipanes\",\"lirio\",\"rosa\",\"dahlia\",\"margarita\",\"girasol\",\"clavel\",\"geranio\"]\n",
        "seleccion=random.sample(flores,3)\n",
        "seleccion"
      ]
    },
    {
      "cell_type": "code",
      "source": [
        "def inventario():\n",
        "  flores=[\"tulipanes\",\"lirio\",\"rosa\",\"dahlia\",\"margarita\",\"girasol\",\"clavel\",\"geranio\"]\n",
        "  seleccion=random.sample(flores,3)\n",
        "\n",
        "  inventario={\n",
        "      flor:{\n",
        "          \"precio\":random.randint(2000,6000),\n",
        "          \"cantidad\":random.randint(10,50),\n",
        "          \"vendidas\":0\n",
        "      } for flor in seleccion\n",
        "      }\n",
        "  return inventario"
      ],
      "metadata": {
        "id": "Q4OWtzCQPcUE"
      },
      "execution_count": 15,
      "outputs": []
    },
    {
      "cell_type": "code",
      "source": [
        "inventario()"
      ],
      "metadata": {
        "colab": {
          "base_uri": "https://localhost:8080/"
        },
        "id": "YU1EmyTzRNXd",
        "outputId": "972308e6-b02f-4269-d1d8-f667cb8fabf7"
      },
      "execution_count": 5,
      "outputs": [
        {
          "output_type": "execute_result",
          "data": {
            "text/plain": [
              "{'lirio': {'precio': 3104, 'cantidad': 46, 'vendidad': 0},\n",
              " 'clavel': {'precio': 4297, 'cantidad': 19, 'vendidad': 0},\n",
              " 'margarita': {'precio': 4210, 'cantidad': 24, 'vendidad': 0}}"
            ]
          },
          "metadata": {},
          "execution_count": 5
        }
      ]
    },
    {
      "cell_type": "code",
      "source": [
        "flor=inventario()\n",
        "flor.items()"
      ],
      "metadata": {
        "colab": {
          "base_uri": "https://localhost:8080/"
        },
        "id": "zCm4hXFNTFmp",
        "outputId": "6b14c50d-610a-40a7-ea5c-9f007b8e11ab"
      },
      "execution_count": 6,
      "outputs": [
        {
          "output_type": "execute_result",
          "data": {
            "text/plain": [
              "dict_items([('girasol', {'precio': 2202, 'cantidad': 47, 'vendidad': 0}), ('clavel', {'precio': 3691, 'cantidad': 42, 'vendidad': 0}), ('rosa', {'precio': 3554, 'cantidad': 40, 'vendidad': 0})])"
            ]
          },
          "metadata": {},
          "execution_count": 6
        }
      ]
    },
    {
      "cell_type": "code",
      "source": [
        "def menu(inventario):\n",
        "  print(\"\\n---MENÚ DE FLORES DISPONIBLES FLORISTERIA CARLITOS---\")\n",
        "  for flor,datos in inventario.items():\n",
        "    print(f\"{flor}: ${datos['precio']} cant: {datos['cantidad']} disponible\")\n",
        "  print(\"------------------------------------------------------\")\n"
      ],
      "metadata": {
        "id": "a8afuy1TSBYy"
      },
      "execution_count": 7,
      "outputs": []
    },
    {
      "cell_type": "code",
      "source": [
        "menu(inventario())"
      ],
      "metadata": {
        "colab": {
          "base_uri": "https://localhost:8080/"
        },
        "id": "8DkjHiahUOyK",
        "outputId": "45891441-fd53-4fb1-d8d9-5380fcca94a3"
      },
      "execution_count": 8,
      "outputs": [
        {
          "output_type": "stream",
          "name": "stdout",
          "text": [
            "\n",
            "---MENÚ DE FLORES DISPONIBLES FLORISTERIA CARLITOS---\n",
            "clavel: $5697 cant: 21 disponible\n",
            "tulipanes: $3398 cant: 26 disponible\n",
            "girasol: $2243 cant: 47 disponible\n",
            "------------------------------------------------------\n"
          ]
        }
      ]
    },
    {
      "cell_type": "code",
      "source": [
        "def ventas(inventario,flor,cantidad,total_ganado):\n",
        "  if flor not in inventario:\n",
        "    print(f\"{flor} no se encuentra a la venta😘\")\n",
        "    return total_ganado\n",
        "  datos=inventario[flor]\n",
        "  if cantidad>datos[\"cantidad\"]:\n",
        "    print(f\"Lo siento. No tenemos la cantidad requerida\")\n",
        "    return total_ganado\n",
        "\n",
        "  #Realizando la venta\n",
        "  datos[\"cantidad\"]-=cantidad\n",
        "  datos[\"vendidas\"]+=cantidad\n",
        "  venta = datos[\"precio\"] * cantidad\n",
        "  total_ganado+=venta\n",
        "  print(f\"Vendidas: {cantidad} de {flor} por un total de ${venta}\")\n",
        "\n",
        "  #Si se acaba, eliminamos la flor\n",
        "  if datos[\"cantidad\"]==0:\n",
        "    print(f\"{flor} ha sido eliminada del inventario 😱\")\n",
        "    del inventario[flor]\n",
        "  return total_ganado"
      ],
      "metadata": {
        "id": "g3wuVsBDVm5K"
      },
      "execution_count": 13,
      "outputs": []
    },
    {
      "cell_type": "code",
      "source": [
        "def cerrar_tienda(inventario_inicial,inventario_final,tota_ganado):\n",
        "  print(\"\\n---Tienda Cerrada---\")\n",
        "  #Combinar el inventario inicial con el final para saber cuantas se vendio\n",
        "  flores_vendidas={}\n",
        "  for flor, datos in inventario_inicial.items():\n",
        "    cantidad_final=inventario_final.get(flor,{\"cantidad\":0})[\"cantidad\"]\n",
        "    vendidas=datos[\"cantidad\"]-cantidad_final\n",
        "    flores_vendidas[flor]=vendidas\n",
        "\n",
        "\n",
        "    #Determinar cuales fueron las más vendidas\n",
        "    mas_vendidas=max(flores_vendidas,key=flores_vendidas.get)\n",
        "    menos_vendidas=min(flores_vendidas,key=flores_vendidas.get)\n",
        "\n",
        "    print(f\"la flor más vendida fue {mas_vendidas}:{flores_vendidas[mas_vendidas]} unidad(es)\")\n",
        "    print(f\"la flor menos vendida fue {menos_vendidas}:{flores_vendidas[menos_vendidas]} unidad(es)\")"
      ],
      "metadata": {
        "id": "DEJY5InZafZV"
      },
      "execution_count": 9,
      "outputs": []
    },
    {
      "cell_type": "code",
      "source": [
        "total_ganado=0\n",
        "flor = inventario() # Re-initialize flor with the corrected inventory\n",
        "total_ganado=ventas(flor,\"rosa\",10,total_ganado)\n",
        "total_ganado=ventas(flor,\"clavel\",18,total_ganado)\n",
        "total_ganado=ventas(flor,\"margarita\",80,total_ganado)"
      ],
      "metadata": {
        "colab": {
          "base_uri": "https://localhost:8080/"
        },
        "id": "KyRfSd-ceP1e",
        "outputId": "5350b7ed-637e-4b8b-b0fd-d3f4429218ba"
      },
      "execution_count": 16,
      "outputs": [
        {
          "output_type": "stream",
          "name": "stdout",
          "text": [
            "rosa no se encuentra a la venta😘\n",
            "clavel no se encuentra a la venta😘\n",
            "margarita no se encuentra a la venta😘\n"
          ]
        }
      ]
    }
  ]
}