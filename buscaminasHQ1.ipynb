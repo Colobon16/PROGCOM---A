{
  "nbformat": 4,
  "nbformat_minor": 0,
  "metadata": {
    "colab": {
      "provenance": [],
      "authorship_tag": "ABX9TyOyPV4tTCRlYpIa5i45xa4P",
      "include_colab_link": true
    },
    "kernelspec": {
      "name": "python3",
      "display_name": "Python 3"
    },
    "language_info": {
      "name": "python"
    }
  },
  "cells": [
    {
      "cell_type": "markdown",
      "metadata": {
        "id": "view-in-github",
        "colab_type": "text"
      },
      "source": [
        "<a href=\"https://colab.research.google.com/github/Colobon16/PROGCOM---A/blob/main/buscaminasHQ1.ipynb\" target=\"_parent\"><img src=\"https://colab.research.google.com/assets/colab-badge.svg\" alt=\"Open In Colab\"/></a>"
      ]
    },
    {
      "cell_type": "code",
      "execution_count": null,
      "metadata": {
        "colab": {
          "base_uri": "https://localhost:8080/"
        },
        "id": "Un56jXQ0gbA2",
        "outputId": "2b6d4fa6-3081-4784-a6b9-4fb9621ec8e7"
      },
      "outputs": [
        {
          "output_type": "stream",
          "name": "stdout",
          "text": [
            "Selecciona la dificultad:\n",
            "1. Fácil (10x10, 10 minas)\n",
            "2. Medio (20x20, 30 minas)\n",
            "3. Difícil (20x20, 60 minas)\n"
          ]
        }
      ],
      "source": [
        "import random\n",
        "\n",
        "def seleccionar_dificultad():\n",
        "    while True:\n",
        "        print(\"Selecciona la dificultad:\")\n",
        "        print(\"1. Fácil (10x10, 10 minas)\")\n",
        "        print(\"2. Medio (20x20, 30 minas)\")\n",
        "        print(\"3. Difícil (20x20, 60 minas)\")\n",
        "        opcion = input(\"Ingrese el número de la dificultad: \")\n",
        "        if opcion == '1':\n",
        "            return 10, 10, 10\n",
        "        elif opcion == '2':\n",
        "            return 20, 20, 30\n",
        "        elif opcion == '3':\n",
        "            return 20, 20, 60\n",
        "        else:\n",
        "            print(\"Opción no válida. Inténtalo de nuevo.\")\n",
        "\n",
        "def crear_tablero(filas, columnas, minas, primer_mov):\n",
        "    tablero = [[' ' for _ in range(columnas)] for _ in range(filas)]\n",
        "    minas_pos = set()\n",
        "    banderas = set()\n",
        "\n",
        "    while len(minas_pos) < minas:\n",
        "        fila, col = random.randint(0, filas - 1), random.randint(0, columnas - 1)\n",
        "        if (fila, col) != primer_mov:\n",
        "            minas_pos.add((fila, col))\n",
        "\n",
        "    for fila, col in minas_pos:\n",
        "        tablero[fila][col] = '*'\n",
        "\n",
        "    for f in range(filas):\n",
        "        for c in range(columnas):\n",
        "            if tablero[f][c] == '*':\n",
        "                continue\n",
        "\n",
        "            contador = sum((nf, nc) in minas_pos for nf in range(f-1, f+2) for nc in range(c-1, c+2) if 0 <= nf < filas and 0 <= nc < columnas)\n",
        "            tablero[f][c] = str(contador) if contador > 0 else ' '\n",
        "\n",
        "    return tablero, minas_pos, banderas\n",
        "\n",
        "def mostrar_tablero(tablero, descubiertas, banderas):\n",
        "    print(\"    \" + \" \".join(f\"{i:2}\" for i in range(len(tablero[0]))))\n",
        "    print(\"   \" + \"-\" * (3 * len(tablero[0]) - 1))\n",
        "    for i, fila in enumerate(tablero):\n",
        "        print(f\"{i:2} |\" + \" \".join('F' if (i, j) in banderas else (fila[j] if (i, j) in descubiertas else '#') for j in range(len(fila))) + \"|\")\n",
        "\n",
        "def descubrir_adyacentes(tablero, fila, col, descubiertas, porcentaje=0.2):\n",
        "    total_casillas = len(tablero) * len(tablero[0])\n",
        "    casillas_a_descubrir = int(total_casillas * porcentaje)\n",
        "\n",
        "    pila = [(fila, col)]\n",
        "    while pila and len(descubiertas) < casillas_a_descubrir:\n",
        "        f, c = pila.pop()\n",
        "        if (f, c) in descubiertas:\n",
        "            continue\n",
        "        descubiertas.add((f, c))\n",
        "        if tablero[f][c] == ' ':\n",
        "            for nf in range(f - 1, f + 2):\n",
        "                for nc in range(c - 1, c + 2):\n",
        "                    if 0 <= nf < len(tablero) and 0 <= nc < len(tablero[0]) and (nf, nc) not in descubiertas:\n",
        "                        pila.append((nf, nc))\n",
        "\n",
        "def jugar_buscaminas():\n",
        "    filas, columnas, minas = seleccionar_dificultad()\n",
        "    primer_mov = None\n",
        "    descubiertas = set()\n",
        "    banderas = set()\n",
        "    tablero = [['#' for _ in range(columnas)] for _ in range(filas)]\n",
        "    minas_pos = set()\n",
        "\n",
        "    mostrar_tablero(tablero, descubiertas, banderas)\n",
        "\n",
        "    while True:\n",
        "        try:\n",
        "            entrada = input(\"Introduce fila y columna (ejemplo: 1 2) o 'F 1 2' para poner/quitar bandera: \").split()\n",
        "\n",
        "            if entrada[0].upper() == 'F':\n",
        "                fila, col = map(int, entrada[1:])\n",
        "                if (fila, col) in banderas:\n",
        "                    banderas.remove((fila, col))\n",
        "                else:\n",
        "                    banderas.add((fila, col))\n",
        "                mostrar_tablero(tablero, descubiertas, banderas)\n",
        "                continue\n",
        "\n",
        "            fila, col = map(int, entrada)\n",
        "            if (fila, col) in descubiertas or (fila, col) in banderas:\n",
        "                print(\"Casilla ya descubierta o marcada. Intenta otra vez.\")\n",
        "                continue\n",
        "\n",
        "            if primer_mov is None:\n",
        "                primer_mov = (fila, col)\n",
        "                tablero, minas_pos, banderas = crear_tablero(filas, columnas, minas, primer_mov)\n",
        "                descubrir_adyacentes(tablero, fila, col, descubiertas)\n",
        "\n",
        "            if (fila, col) in minas_pos:\n",
        "                print(\"¡BOOM! Has pisado una mina. Fin del juego.\")\n",
        "                mostrar_tablero(tablero, {(r, c) for r in range(filas) for c in range(columnas)}, banderas)\n",
        "                break\n",
        "\n",
        "            descubrir_adyacentes(tablero, fila, col, descubiertas)\n",
        "            mostrar_tablero(tablero, descubiertas, banderas)\n",
        "\n",
        "            if len(descubiertas) == filas * columnas - minas:\n",
        "                print(\"¡Felicidades! Has descubierto todas las casillas sin minas.\")\n",
        "                break\n",
        "        except ValueError:\n",
        "            print(\"Entrada no válida. Introduce dos números separados por un espacio.\")\n",
        "        except IndexError:\n",
        "            print(\"Coordenadas fuera de rango. Inténtalo de nuevo.\")\n",
        "\n",
        "if __name__ == \"__main__\":\n",
        "    jugar_buscaminas()"
      ]
    }
  ]
}