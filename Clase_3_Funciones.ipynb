{
  "cells": [
    {
      "cell_type": "markdown",
      "metadata": {
        "id": "view-in-github",
        "colab_type": "text"
      },
      "source": [
        "<a href=\"https://colab.research.google.com/github/Colobon16/PROGCOM---A/blob/main/Clase_3_Funciones.ipynb\" target=\"_parent\"><img src=\"https://colab.research.google.com/assets/colab-badge.svg\" alt=\"Open In Colab\"/></a>"
      ]
    },
    {
      "cell_type": "markdown",
      "source": [
        "FUNCIONES\n",
        "\n",
        "\n",
        "Copiado dinámico. Dio nacimiento a un nuevo paradigma de programación llamado programación modular.\n",
        "\n",
        "Forma general de programar funciones.\n",
        "\n",
        "def (nombre_de_función)(p,p2,p2..pn)\n",
        "   donde p, p2, p3...pn: son parámetros\n",
        "\n",
        "\n",
        "   1. list()\n",
        "   2. len()\n",
        "   3. print()\n",
        "   4. append()#Método\n",
        "   5. int()\n",
        "   6. input()\n",
        "\n",
        "TIPOS DE FUNCIONES\n",
        "\n",
        "   1. Sin parametros, sin retorno\n",
        "   2. Sin parametros, con retorno\n",
        "   3. Con parametros, sin retorno\n",
        "   3. Con parametros, con retorno\n",
        "\n",
        "\n",
        "\n"
      ],
      "metadata": {
        "id": "xakgKv8s6TCy"
      }
    },
    {
      "cell_type": "code",
      "source": [
        "#Ejemplo: Entrada de cajero electrónico\n",
        "def cajero():# Esto significa que es sin parámetros\n",
        "  print(\"Bienvenido a DaviUNAB\")\n",
        "  print(\"Estas son las operaciones que puede realizar\")\n",
        "  print(\"!. Retirar\\n2. Transferencia\\n3. Denunciar\\n4. Operaciones sin tarjeta\\n5\")"
      ],
      "metadata": {
        "id": "5zmCSbnW7pNc"
      },
      "execution_count": 2,
      "outputs": []
    },
    {
      "cell_type": "markdown",
      "source": [
        "###2. Sin parámetros, con retorno"
      ],
      "metadata": {
        "id": "U7RtwKQL8d6x"
      }
    },
    {
      "cell_type": "code",
      "source": [
        "#Ejemplo: Entrada de cajero electrónico\n",
        "def cajero():# Esto significa que es sin parámetros\n",
        "  print(\"Bienvenido a DaviUNAB\")\n",
        "  print(\"Estas son las operaciones que puede realizar\")\n",
        "  print(\"1. Retirar\\n2. Transferencia\\n3. Denunciar\\n4. Operaciones sin tarjeta\\n5\")\n",
        "  rta=input(\"Ingrese una opción \")#Variable local\n",
        "  return rta#Vuela una variable local a global"
      ],
      "metadata": {
        "id": "2j9SrZV18nCA"
      },
      "execution_count": 5,
      "outputs": []
    },
    {
      "cell_type": "markdown",
      "source": [
        "3. Con parámetros, sin retorno\n"
      ],
      "metadata": {
        "id": "lkT3p9wu_Js3"
      }
    },
    {
      "cell_type": "code",
      "source": [
        "def area_rectangular(u,du):\n",
        "  return f\"El área de un rectángulo de base {u} y altura {du} es {u*du}\""
      ],
      "metadata": {
        "id": "oV4UYmCa_QvP"
      },
      "execution_count": 9,
      "outputs": []
    },
    {
      "cell_type": "code",
      "source": [
        "area_rectangular(10,15)"
      ],
      "metadata": {
        "colab": {
          "base_uri": "https://localhost:8080/",
          "height": 35
        },
        "id": "M59IxRUP_9F2",
        "outputId": "16ca800c-9dd2-4f4f-d756-c8edbd55b74c"
      },
      "execution_count": 10,
      "outputs": [
        {
          "output_type": "execute_result",
          "data": {
            "text/plain": [
              "'El área de un rectángulo de base 10 y altura 15 es 150'"
            ],
            "application/vnd.google.colaboratory.intrinsic+json": {
              "type": "string"
            }
          },
          "metadata": {},
          "execution_count": 10
        }
      ]
    },
    {
      "cell_type": "code",
      "source": [
        "print(a)"
      ],
      "metadata": {
        "id": "L5Kbln1J__2h"
      },
      "execution_count": null,
      "outputs": []
    },
    {
      "cell_type": "markdown",
      "source": [
        "##funciones anonimas o labda\n",
        "1.  siempre usan parametros\n",
        "2.  siempre genera retorno\n",
        "3. no tienen nombre-->anonimas\n",
        "4. **se puede emplear n parametros, pero solo ejecita una linea de codigo**\n",
        "\n",
        "Definicion de funcion lambda\n",
        "\n",
        "```\n",
        "variable=lambda (p, p1, p2,...pn): operaciom\n",
        "```\n",
        "\n"
      ],
      "metadata": {
        "id": "XnK8cf8JACHU"
      }
    },
    {
      "cell_type": "code",
      "source": [
        "#ejemplo: calcular el area de un triangulo\n",
        "area_triangulo=lambda a,b:a*b/2"
      ],
      "metadata": {
        "id": "zrah2bP_E0iX"
      },
      "execution_count": 15,
      "outputs": []
    },
    {
      "cell_type": "code",
      "source": [
        "area_triangulo(3,8)"
      ],
      "metadata": {
        "colab": {
          "base_uri": "https://localhost:8080/"
        },
        "id": "ztqyCYsBFEI2",
        "outputId": "015e0a62-7ea6-4fa5-be01-74d8ac73a691"
      },
      "execution_count": 16,
      "outputs": [
        {
          "output_type": "execute_result",
          "data": {
            "text/plain": [
              "12.0"
            ]
          },
          "metadata": {},
          "execution_count": 16
        }
      ]
    }
  ],
  "metadata": {
    "colab": {
      "provenance": [],
      "include_colab_link": true
    },
    "kernelspec": {
      "display_name": "Python 3",
      "name": "python3"
    }
  },
  "nbformat": 4,
  "nbformat_minor": 0
}