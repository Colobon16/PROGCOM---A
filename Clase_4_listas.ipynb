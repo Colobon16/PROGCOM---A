{
  "nbformat": 4,
  "nbformat_minor": 0,
  "metadata": {
    "colab": {
      "provenance": [],
      "authorship_tag": "ABX9TyOp5ZmVB+eEB1CPlk8jfJjt",
      "include_colab_link": true
    },
    "kernelspec": {
      "name": "python3",
      "display_name": "Python 3"
    },
    "language_info": {
      "name": "python"
    }
  },
  "cells": [
    {
      "cell_type": "markdown",
      "metadata": {
        "id": "view-in-github",
        "colab_type": "text"
      },
      "source": [
        "<a href=\"https://colab.research.google.com/github/Colobon16/PROGCOM---A/blob/main/Clase_4_listas.ipynb\" target=\"_parent\"><img src=\"https://colab.research.google.com/assets/colab-badge.svg\" alt=\"Open In Colab\"/></a>"
      ]
    },
    {
      "cell_type": "markdown",
      "source": [],
      "metadata": {
        "id": "OUJ85fvrFQ_c"
      }
    },
    {
      "cell_type": "markdown",
      "source": [
        "LISTAS\n",
        "\n",
        "1. Conjunto de datos\n",
        "2. Es mutable. (5000xp)\n",
        "3. Tiene indexación\n",
        "\n"
      ],
      "metadata": {
        "id": "ViyYCz2iFpUi"
      }
    },
    {
      "cell_type": "code",
      "source": [
        "lista=[\"maría\",4,True,\"hola\"]\n",
        "lista[0]\n"
      ],
      "metadata": {
        "colab": {
          "base_uri": "https://localhost:8080/",
          "height": 35
        },
        "id": "YaeqtbVHF106",
        "outputId": "2b409df1-3e28-4021-8cbd-2c485c0c34ae"
      },
      "execution_count": 1,
      "outputs": [
        {
          "output_type": "execute_result",
          "data": {
            "text/plain": [
              "'maría'"
            ],
            "application/vnd.google.colaboratory.intrinsic+json": {
              "type": "string"
            }
          },
          "metadata": {},
          "execution_count": 1
        }
      ]
    },
    {
      "cell_type": "markdown",
      "source": [
        "4. Son ordenadas\n",
        "\n",
        "\n"
      ],
      "metadata": {
        "id": "nC7OZPQoGJVr"
      }
    },
    {
      "cell_type": "code",
      "source": [
        "#Obteniendo el último elemento de la lista\n",
        "lista[len(lista)-1]"
      ],
      "metadata": {
        "colab": {
          "base_uri": "https://localhost:8080/",
          "height": 35
        },
        "id": "WfBicQlTGYYK",
        "outputId": "ab294589-de56-4ab0-ae13-21c4f34c7a45"
      },
      "execution_count": 2,
      "outputs": [
        {
          "output_type": "execute_result",
          "data": {
            "text/plain": [
              "'hola'"
            ],
            "application/vnd.google.colaboratory.intrinsic+json": {
              "type": "string"
            }
          },
          "metadata": {},
          "execution_count": 2
        }
      ]
    },
    {
      "cell_type": "code",
      "source": [
        "lista[-1]"
      ],
      "metadata": {
        "colab": {
          "base_uri": "https://localhost:8080/",
          "height": 35
        },
        "id": "xhOdNxYNGhpy",
        "outputId": "c16f5ad7-274e-4e7b-c784-8e3c47ab9657"
      },
      "execution_count": 3,
      "outputs": [
        {
          "output_type": "execute_result",
          "data": {
            "text/plain": [
              "'hola'"
            ],
            "application/vnd.google.colaboratory.intrinsic+json": {
              "type": "string"
            }
          },
          "metadata": {},
          "execution_count": 3
        }
      ]
    },
    {
      "cell_type": "code",
      "source": [
        "lista[:2]"
      ],
      "metadata": {
        "colab": {
          "base_uri": "https://localhost:8080/"
        },
        "id": "Izb2nvA3GkjK",
        "outputId": "600a84ca-8675-4d89-ccb0-ca80ca293105"
      },
      "execution_count": 4,
      "outputs": [
        {
          "output_type": "execute_result",
          "data": {
            "text/plain": [
              "['maría', 4]"
            ]
          },
          "metadata": {},
          "execution_count": 4
        }
      ]
    },
    {
      "cell_type": "code",
      "source": [
        "lista[:-1]"
      ],
      "metadata": {
        "colab": {
          "base_uri": "https://localhost:8080/"
        },
        "id": "1ANzEZuIGpVz",
        "outputId": "3c0453ca-de1d-43af-917a-7eb944601c45"
      },
      "execution_count": 5,
      "outputs": [
        {
          "output_type": "execute_result",
          "data": {
            "text/plain": [
              "['maría', 4, True]"
            ]
          },
          "metadata": {},
          "execution_count": 5
        }
      ]
    },
    {
      "cell_type": "code",
      "source": [
        "for i in lista:\n",
        "  #Va a iterar 4 veces\n",
        "  #i va a tomar por vez el elemento de la lista\n",
        "  print(i)"
      ],
      "metadata": {
        "colab": {
          "base_uri": "https://localhost:8080/"
        },
        "id": "cU3hf67ZHYLS",
        "outputId": "f71c34f4-5d68-4eb6-e9f7-2aefd651cba8"
      },
      "execution_count": 7,
      "outputs": [
        {
          "output_type": "stream",
          "name": "stdout",
          "text": [
            "maría\n",
            "4\n",
            "True\n",
            "hola\n"
          ]
        }
      ]
    },
    {
      "cell_type": "code",
      "source": [
        "#Lista por extensión:\n",
        "num=[1,2,3,4,5,6,7,8,9,10]\n",
        "#Lista por comprensión\n",
        "num2=list(range(1,11))\n",
        "print(num2)"
      ],
      "metadata": {
        "colab": {
          "base_uri": "https://localhost:8080/"
        },
        "id": "MzdjTFqkH4Hr",
        "outputId": "03919921-eff4-4556-8282-860c09627584"
      },
      "execution_count": 8,
      "outputs": [
        {
          "output_type": "stream",
          "name": "stdout",
          "text": [
            "[1, 2, 3, 4, 5, 6, 7, 8, 9, 10]\n"
          ]
        }
      ]
    },
    {
      "cell_type": "markdown",
      "source": [
        "##Listas por comprensión\n",
        "Forma nueva de generar listas a partir de una expresión\n",
        "Sintaxis:\n",
        "\n",
        "```\n",
        "nombre_lista=[expresión for item in iterable if condición]\n",
        "```\n",
        "Donde:\n",
        "1. expresión: Es el valor que generará la nueva lista\n",
        "2. item: variable que representa cada elemento dentro de la iteración\n",
        "3. iterable: Cuántos elementos va a tener la nueva lista\n",
        "4. Condición: es opcional y se emplea si los elementos deben cumplir algo\n"
      ],
      "metadata": {
        "id": "mfhoa-HdIWgQ"
      }
    },
    {
      "cell_type": "code",
      "source": [
        "#Convertir una lista de oraciones en una lista de palabras\n",
        "oraciones=[\"Aquí va una oración\",\"Aquí va otra oración\",\"Aquí va la tercera oración\"]\n",
        "palabras=[i.split() for i in oraciones]\n",
        "palabras"
      ],
      "metadata": {
        "colab": {
          "base_uri": "https://localhost:8080/"
        },
        "id": "7YYb40yCJVyx",
        "outputId": "a1fb1570-eab1-45e2-87f8-71cb7bf7c722"
      },
      "execution_count": 9,
      "outputs": [
        {
          "output_type": "execute_result",
          "data": {
            "text/plain": [
              "[['Aquí', 'va', 'una', 'oración'],\n",
              " ['Aquí', 'va', 'otra', 'oración'],\n",
              " ['Aquí', 'va', 'la', 'tercera', 'oración']]"
            ]
          },
          "metadata": {},
          "execution_count": 9
        }
      ]
    },
    {
      "cell_type": "code",
      "source": [
        "#Clasificar si un número es positivo o negativo\n",
        "numeros=[1,4,6,-20,-2,-69,4]\n",
        "lista2=[(n,\"positivo\") if n>0 else (n,\"negativo\") for n in numeros]\n",
        "lista2"
      ],
      "metadata": {
        "colab": {
          "base_uri": "https://localhost:8080/"
        },
        "id": "6ZqrNVxCKeIo",
        "outputId": "bb96f3c8-4dec-4416-b01a-2679e74df608"
      },
      "execution_count": 10,
      "outputs": [
        {
          "output_type": "execute_result",
          "data": {
            "text/plain": [
              "[(1, 'positivo'),\n",
              " (4, 'positivo'),\n",
              " (6, 'positivo'),\n",
              " (-20, 'negativo'),\n",
              " (-2, 'negativo'),\n",
              " (-69, 'negativo'),\n",
              " (4, 'positivo')]"
            ]
          },
          "metadata": {},
          "execution_count": 10
        }
      ]
    },
    {
      "cell_type": "code",
      "source": [
        "import random\n",
        "\n",
        "temperaturas = [random.uniform(10, 35) for _ in range (10)]\n",
        "promedio = sum(temperaturas) / len(temperaturas)\n",
        "\n",
        "print(\"temperaturas registradas:\")\n",
        "print([round(t, 2) for t in temperaturas])\n",
        "print(\"promedio del dia:\"), round(promedio, 2), \"grados centigrados\"\n",
        "\n",
        "if promedio <= 20:\n",
        "  print(\"el clima estuvo frio al final del dia\")\n",
        "else:\n",
        "  print(\"el clima estuvo caliente al final del dia\")"
      ],
      "metadata": {
        "colab": {
          "base_uri": "https://localhost:8080/"
        },
        "id": "ptAVVY3gNsfl",
        "outputId": "8b31e7ac-8b18-40e0-e2d6-65ae8c8dc523"
      },
      "execution_count": 23,
      "outputs": [
        {
          "output_type": "stream",
          "name": "stdout",
          "text": [
            "temperaturas registradas:\n",
            "[33.67, 23.67, 13.75, 29.29, 12.67, 33.98, 27.53, 28.31, 33.85, 25.52]\n",
            "promedio del dia:\n",
            "el clima estuvo caliente al final del dia\n"
          ]
        }
      ]
    },
    {
      "cell_type": "code",
      "metadata": {
        "colab": {
          "base_uri": "https://localhost:8080/"
        },
        "id": "25d196b6",
        "outputId": "c1106ce5-0d49-49cb-deea-a1ea1e0c641a"
      },
      "source": [
        "min_temp = min(temperaturas)\n",
        "max_temp = max(temperaturas)\n",
        "\n",
        "print(f\"La temperatura mínima registrada es: {round(min_temp, 1)} grados centigrados\")\n",
        "print(f\"La temperatura máxima registrada es: {round(max_temp, 2)} grados centigrados\")"
      ],
      "execution_count": 22,
      "outputs": [
        {
          "output_type": "stream",
          "name": "stdout",
          "text": [
            "La temperatura mínima registrada es: 12.6 grados centigrados\n",
            "La temperatura máxima registrada es: 32.73 grados centigrados\n"
          ]
        }
      ]
    }
  ]
}